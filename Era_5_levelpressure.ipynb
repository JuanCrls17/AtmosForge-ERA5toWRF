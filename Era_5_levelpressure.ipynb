{
 "cells": [
  {
   "cell_type": "code",
   "execution_count": 4,
   "metadata": {},
   "outputs": [],
   "source": [
    "import cdsapi\n",
    "\n",
    "year = input(\"Ingrese el año (por ejemplo, '2023'): \")\n",
    "\n",
    "months = input(\"Ingrese el/los mes/meses separados por comas (por ejemplo, '8' o '8,9'): \")\n",
    "month_list = [f\"{int(month):02d}\" for month in months.split(',')]\n",
    "\n",
    "days = input(\"Ingrese el/los día/días separados por comas (por ejemplo, '1' o '1,3,4,5'): \")\n",
    "day_list = [f\"{int(day):02d}\" for day in days.split(',')]\n",
    "\n",
    "dataset = \"reanalysis-era5-pressure-levels\"\n",
    "request = {\n",
    "    'product_type': ['reanalysis'],\n",
    "    'variable': ['divergence', 'fraction_of_cloud_cover', 'geopotential', 'ozone_mass_mixing_ratio', 'potential_vorticity', 'relative_humidity', 'specific_cloud_ice_water_content', 'specific_cloud_liquid_water_content', 'specific_humidity', 'specific_rain_water_content', 'specific_snow_water_content', 'temperature', 'u_component_of_wind', 'v_component_of_wind', 'vertical_velocity', 'vorticity'],\n",
    "    'year': [year],\n",
    "    'month': month_list,\n",
    "    'day': day_list,\n",
    "    'time': ['00:00', '01:00', '02:00', '03:00', '04:00', '05:00', '06:00', '07:00', '08:00', '09:00', '10:00', '11:00', '12:00', '13:00', '14:00', '15:00', '16:00', '17:00', '18:00', '19:00', '20:00', '21:00', '22:00', '23:00'],\n",
    "    'pressure_level': ['1', '2', '3', '5', '7', '10', '20', '30', '50', '70', '100', '125', '150', '175', '200', '225', '250', '300', '350', '400', '450', '500', '550', '600', '650', '700', '750', '775', '800', '825', '850', '875', '900', '925', '950', '975', '1000'],\n",
    "    'data_format': 'grib',\n",
    "    'download_format': 'unarchived',\n",
    "    'area': [20, -90, -60, -30]\n",
    "}\n",
    "\n",
    "output_path = \"/home/juantuf/Descargas/ERADATA/pressure_levels-ERA5.grib\"\n",
    "\n",
    "client = cdsapi.Client()\n",
    "client.retrieve(dataset, request).download(output_path)\n",
    "\n",
    "print(f\"Descarga completada con el nombre 'pressure_levels-ERA5.grib' en la ubicación {output_path}.\")\n"
   ]
  },
  {
   "cell_type": "code",
   "execution_count": null,
   "metadata": {},
   "outputs": [],
   "source": []
  },
  {
   "cell_type": "code",
   "execution_count": null,
   "metadata": {},
   "outputs": [],
   "source": []
  }
 ],
 "metadata": {
  "kernelspec": {
   "display_name": "Python 3",
   "language": "python",
   "name": "python3"
  },
  "language_info": {
   "codemirror_mode": {
    "name": "ipython",
    "version": 3
   },
   "file_extension": ".py",
   "mimetype": "text/x-python",
   "name": "python",
   "nbconvert_exporter": "python",
   "pygments_lexer": "ipython3",
   "version": "3.8.5"
  }
 },
 "nbformat": 4,
 "nbformat_minor": 4
}
