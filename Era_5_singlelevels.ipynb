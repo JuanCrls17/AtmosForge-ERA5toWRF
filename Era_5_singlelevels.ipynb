{
 "cells": [
  {
   "cell_type": "code",
   "execution_count": 1,
   "metadata": {},
   "outputs": [
    {
     "name": "stdin",
     "output_type": "stream",
     "text": [
      "Ingrese el año (por ejemplo, '2023'):  2023\n",
      "Ingrese el/los mes/meses separados por comas (por ejemplo, '11' o '11,12'):  11\n",
      "Ingrese el/los día/días separados por comas (por ejemplo, '1' o '1,3,4,5'):  3,4,5,6,7,8,9\n"
     ]
    },
    {
     "name": "stderr",
     "output_type": "stream",
     "text": [
      "2024-08-08 20:10:55,747 INFO Request ID is 806f7a69-714e-441c-b0f6-437f1af7f67b\n",
      "2024-08-08 20:10:55,984 INFO status has been updated to accepted\n",
      "2024-08-08 20:11:00,260 INFO status has been updated to running\n",
      "2024-08-08 20:15:16,789 INFO Creating download object as as_source with files:\n",
      "['data.grib']\n",
      "2024-08-08 20:17:17,538 INFO status has been updated to successful\n",
      "                                                                                "
     ]
    },
    {
     "name": "stdout",
     "output_type": "stream",
     "text": [
      "Descarga completada con el nombre 'single_levels-ERA5.grib' en la ubicación /home/alexis/Descargas/single_levels-ERA5.grib.\n"
     ]
    },
    {
     "name": "stderr",
     "output_type": "stream",
     "text": [
      "\r"
     ]
    }
   ],
   "source": [
    "import cdsapi\n",
    "\n",
    "year = input(\"Ingrese el año (por ejemplo, '2023'): \")\n",
    "\n",
    "months = input(\"Ingrese el/los meses separados por comas (por ejemplo, '11' o '11,12'): \")\n",
    "month_list = [f\"{int(month):02d}\" for month in months.split(',')]\n",
    "\n",
    "days = input(\"Ingrese el/días separados por comas (por ejemplo, '1' o '1,3,4,5'): \")\n",
    "day_list = [f\"{int(day):02d}\" for day in days.split(',')]\n",
    "\n",
    "dataset = \"reanalysis-era5-single-levels\"\n",
    "request = {\n",
    "    'product_type': ['reanalysis'],\n",
    "    'variable': [\n",
    "        '10m_u_component_of_wind', '10m_v_component_of_wind', '2m_dewpoint_temperature',\n",
    "        '2m_temperature', 'geopotential', 'land_sea_mask',\n",
    "        'leaf_area_index_high_vegetation', 'mean_sea_level_pressure', 'sea_ice_cover',\n",
    "        'sea_surface_temperature', 'snow_depth', 'soil_temperature_level_1',\n",
    "        'soil_temperature_level_2', 'soil_temperature_level_3', 'soil_temperature_level_4',\n",
    "        'soil_type', 'surface_latent_heat_flux', 'surface_pressure',\n",
    "        'top_net_solar_radiation_clear_sky', 'total_precipitation', 'volumetric_soil_water_layer_1',\n",
    "        'volumetric_soil_water_layer_2', 'volumetric_soil_water_layer_3', 'volumetric_soil_water_layer_4',\n",
    "        'skin_temperature',\n",
    "    ],\n",
    "    'year': [year],\n",
    "    'month': month_list,\n",
    "    'day': day_list,\n",
    "    'time': ['00:00', '01:00', '02:00', '03:00', '04:00', '05:00', '06:00', '07:00', '08:00', '09:00', '10:00', '11:00', '12:00', '13:00', '14:00', '15:00', '16:00', '17:00', '18:00', '19:00', '20:00', '21:00', '22:00', '23:00'],\n",
    "    'data_format': 'grib',\n",
    "    'download_format': 'unarchived',\n",
    "    'area': [20, -90, -60, -30]\n",
    "}\n",
    "\n",
    "output_path = \"/home/juantuf/Descargas/ERADATA/single_levels-ERA5.grib\"\n",
    "\n",
    "client = cdsapi.Client()\n",
    "client.retrieve(dataset, request).download(output_path)\n",
    "\n",
    "print(f\"Descarga completada con el nombre 'single_levels-ERA5.grib' en la ubicación {output_path}.\")\n"
   ]
  }
 ],
 "metadata": {
  "kernelspec": {
   "display_name": "Python 3",
   "language": "python",
   "name": "python3"
  },
  "language_info": {
   "codemirror_mode": {
    "name": "ipython",
    "version": 3
   },
   "file_extension": ".py",
   "mimetype": "text/x-python",
   "name": "python",
   "nbconvert_exporter": "python",
   "pygments_lexer": "ipython3",
   "version": "3.8.5"
  }
 },
 "nbformat": 4,
 "nbformat_minor": 5
}
